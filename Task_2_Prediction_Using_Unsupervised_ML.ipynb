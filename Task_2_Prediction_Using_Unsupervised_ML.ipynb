{
  "nbformat": 4,
  "nbformat_minor": 0,
  "metadata": {
    "colab": {
      "name": "Task_2_Prediction_Using_Unsupervised_ML.ipynb",
      "provenance": [],
      "collapsed_sections": []
    },
    "kernelspec": {
      "name": "python3",
      "display_name": "Python 3"
    },
    "language_info": {
      "name": "python"
    }
  },
  "cells": [
    {
      "cell_type": "code",
      "execution_count": null,
      "metadata": {
        "id": "gOIk_b-RySZX"
      },
      "outputs": [],
      "source": [
        ""
      ]
    },
    {
      "cell_type": "markdown",
      "source": [
        "# **TASK_2** - *Prediction Using Unsupervised ML*\n",
        "### **Problem Statement** - From the given ‘Iris’ dataset, predict the optimum number of clusters and represent it visually."
      ],
      "metadata": {
        "id": "IlSWOuoHybpS"
      }
    },
    {
      "cell_type": "markdown",
      "source": [
        "# ***K-Means***\n",
        "The K-means clustering algorithm computes centroids and repeats until the optimal centroid is found.The number of clusters found from data by the method is denoted by the letter 'K' in K-means.It is also known as the 'flat clustering algorithm'."
      ],
      "metadata": {
        "id": "uxC2UCBPz67s"
      }
    },
    {
      "cell_type": "markdown",
      "source": [
        "***IMPORTING*** ***REQUIRED LIBRARIES***"
      ],
      "metadata": {
        "id": "lG6hwFSe0h7B"
      }
    },
    {
      "cell_type": "code",
      "source": [
        "# Firstly, we will start Importing Libraries. \n",
        "import numpy as np          #numpy used for working with arrays\n",
        "import matplotlib.pyplot as plt      #matplotlib used for creating interactive visualizations \n",
        "import pandas as pd          #pandas used for analyzing the data\n",
        "from sklearn import datasets   #sklearn used for machine learning tasks\n",
        "import seaborn as sns         #seaborn used for making statistical graphs \n",
        "\n",
        "# Now, we will start loading the 'iris' dataset.\n",
        "iris = datasets.load_iris()\n",
        "iris_df = pd.DataFrame(iris.data, columns = iris.feature_names)\n",
        "print(iris_df.head())    #It will print the first 5 rows of the dataset. "
      ],
      "metadata": {
        "colab": {
          "base_uri": "https://localhost:8080/"
        },
        "id": "56g8LRYD1F0c",
        "outputId": "72904b28-62a7-49ef-aaee-ce19ae75dcda"
      },
      "execution_count": null,
      "outputs": [
        {
          "output_type": "stream",
          "name": "stdout",
          "text": [
            "   sepal length (cm)  sepal width (cm)  petal length (cm)  petal width (cm)\n",
            "0                5.1               3.5                1.4               0.2\n",
            "1                4.9               3.0                1.4               0.2\n",
            "2                4.7               3.2                1.3               0.2\n",
            "3                4.6               3.1                1.5               0.2\n",
            "4                5.0               3.6                1.4               0.2\n"
          ]
        }
      ]
    },
    {
      "cell_type": "markdown",
      "source": [
        "***TO DETERMINE THE OPTIMUM NUMBER OF CLUSTERS USING THE 'ELBOW METHOD'***"
      ],
      "metadata": {
        "id": "QyK5kwot3X5P"
      }
    },
    {
      "cell_type": "code",
      "source": [
        "# To find the optimum number of clusters for 'k-means' classification\n",
        "x = iris_df.iloc[:, [0, 1, 2, 3]].values\n",
        "from sklearn.cluster import KMeans\n",
        "wcss = []\n",
        "for i in range(1, 11):\n",
        "    kmeans = KMeans(n_clusters = i, init = 'k-means++', max_iter = 300, n_init = 10, random_state = 0)\n",
        "    kmeans.fit(x)\n",
        "    wcss.append(kmeans.inertia_)   \n",
        "# We will plot the result into a line graph so that we can observe the Elbow \n",
        "plt.plot(range(1, 11), wcss, color=\"red\")\n",
        "plt.title('Elbow Method')\n",
        "plt.xlabel('Number of clusters')\n",
        "plt.ylabel('WCSS') # Within cluster sum of squares\n",
        "plt.show()"
      ],
      "metadata": {
        "colab": {
          "base_uri": "https://localhost:8080/",
          "height": 295
        },
        "id": "HL3bpI9G3qxY",
        "outputId": "7a9d2a7d-8b72-4ae2-f9fa-20b6dab59676"
      },
      "execution_count": null,
      "outputs": [
        {
          "output_type": "display_data",
          "data": {
            "text/plain": [
              "<Figure size 432x288 with 1 Axes>"
            ],
            "image/png": "[encoded data removed]"
          },
          "metadata": {
            "needs_background": "light"
          }
        }
      ]
    },
    {
      "cell_type": "markdown",
      "source": [
        "*CONCLUSION - THE OPTIMUM NUMBER OF CLUSTERS IS 3.*"
      ],
      "metadata": {
        "id": "gpGyguuA7Lhe"
      }
    },
    {
      "cell_type": "markdown",
      "source": [
        "***TO CREATE THE K-MEANS CLASSIFIER***\n"
      ],
      "metadata": {
        "id": "Yst7aK_i7iBW"
      }
    },
    {
      "cell_type": "code",
      "source": [
        "# We will apply 'k-means' to the dataset and then will create the k-means classifier. \n",
        "kmeans = KMeans(n_clusters = 3, init = 'k-means++', max_iter = 300, n_init = 10, random_state = 0)\n",
        "y_kmeans = kmeans.fit_predict(x)"
      ],
      "metadata": {
        "id": "d5IL02KV7xrH"
      },
      "execution_count": null,
      "outputs": []
    },
    {
      "cell_type": "markdown",
      "source": [
        "### ***TO PLOT THE CLUSTERS***"
      ],
      "metadata": {
        "id": "teAh33Uh8PCw"
      }
    },
    {
      "cell_type": "code",
      "source": [
        "#To Visualize The Clusters\n",
        "plt.scatter(x[y_kmeans == 0, 0], x[y_kmeans == 0, 1], s = 100, c = 'cyan', label = 'Iris-setosa')\n",
        "plt.scatter(x[y_kmeans == 1, 0], x[y_kmeans == 1, 1], s = 100, c = 'blue', label = 'Iris-versicolour')\n",
        "plt.scatter(x[y_kmeans == 2, 0], x[y_kmeans == 2, 1], s = 100, c = 'yellow', label = 'Iris-virginica')\n",
        "#We will plot the 'centroids' of the 'cluster'.\n",
        "plt.scatter(kmeans.cluster_centers_[:, 0], kmeans.cluster_centers_[:,1], s = 100, c = 'magenta', label = 'Centroids')\n",
        "plt.legend()"
      ],
      "metadata": {
        "colab": {
          "base_uri": "https://localhost:8080/",
          "height": 286
        },
        "id": "PJ-7yrCh8br8",
        "outputId": "d91d25e9-270e-4907-ddd0-e6be167d0cd1"
      },
      "execution_count": null,
      "outputs": [
        {
          "output_type": "execute_result",
          "data": {
            "text/plain": [
              "<matplotlib.legend.Legend at 0x7f03a6458ad0>"
            ]
          },
          "metadata": {},
          "execution_count": 5
        },
        {
          "output_type": "display_data",
          "data": {
            "text/plain": [
              "<Figure size 432x288 with 1 Axes>"
            ],
            "image/png": "[encoded data removed]"
          },
          "metadata": {
            "needs_background": "light"
          }
        }
      ]
    }
  ]
}